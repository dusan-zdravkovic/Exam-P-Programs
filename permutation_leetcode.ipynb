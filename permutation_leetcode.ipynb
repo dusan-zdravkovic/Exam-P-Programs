{
 "cells": [
  {
   "cell_type": "code",
   "execution_count": 7,
   "id": "32211b16",
   "metadata": {},
   "outputs": [],
   "source": [
    "import numpy as np\n"
   ]
  },
  {
   "cell_type": "markdown",
   "id": "b4e1bf93",
   "metadata": {},
   "source": [
    "Given an array nums = [1,2,3], return all possible permutations of the array"
   ]
  },
  {
   "cell_type": "code",
   "execution_count": 8,
   "id": "47bfb565",
   "metadata": {},
   "outputs": [],
   "source": [
    "nums = [1,2,3]"
   ]
  },
  {
   "cell_type": "code",
   "execution_count": 9,
   "id": "3340f454",
   "metadata": {},
   "outputs": [],
   "source": [
    "def permute(nums):\n",
    "    res = []\n",
    "\n",
    "    def backtrack(path, used):\n",
    "        if len(path) == len(nums):\n",
    "            res.append(path[:])\n",
    "            return\n",
    "        for i in range(len(nums)):\n",
    "            if used[i]:\n",
    "                continue\n",
    "            used[i] = True\n",
    "            path.append(nums[i])\n",
    "            backtrack(path, used)\n",
    "            path.pop()\n",
    "            used[i] = False\n",
    "\n",
    "    backtrack([], [False] * len(nums))\n",
    "    return res"
   ]
  },
  {
   "cell_type": "code",
   "execution_count": 10,
   "id": "6176b2f8",
   "metadata": {},
   "outputs": [
    {
     "name": "stdout",
     "output_type": "stream",
     "text": [
      "[[1, 2, 3], [1, 3, 2], [2, 1, 3], [2, 3, 1], [3, 1, 2], [3, 2, 1]]\n",
      "Total permutations: 6\n"
     ]
    }
   ],
   "source": [
    "output = permute([1, 2, 3])\n",
    "print(output)\n",
    "print(f\"Total permutations: {len(output)}\")"
   ]
  },
  {
   "cell_type": "code",
   "execution_count": 23,
   "id": "488c10b8",
   "metadata": {},
   "outputs": [
    {
     "name": "stdout",
     "output_type": "stream",
     "text": [
      "It took 5 rolls to get doubles: 2, 2\n"
     ]
    }
   ],
   "source": [
    "import random\n",
    "\n",
    "tries = 0\n",
    "while True:\n",
    "    die1 = random.randint(1, 6)\n",
    "    die2 = random.randint(1, 6)\n",
    "    tries += 1\n",
    "    if die1 == die2:\n",
    "        break\n",
    "\n",
    "print(f\"It took {tries} rolls to get doubles: {die1}, {die2}\")"
   ]
  },
  {
   "cell_type": "code",
   "execution_count": null,
   "id": "ae545c49",
   "metadata": {},
   "outputs": [],
   "source": []
  }
 ],
 "metadata": {
  "kernelspec": {
   "display_name": "base",
   "language": "python",
   "name": "python3"
  },
  "language_info": {
   "codemirror_mode": {
    "name": "ipython",
    "version": 3
   },
   "file_extension": ".py",
   "mimetype": "text/x-python",
   "name": "python",
   "nbconvert_exporter": "python",
   "pygments_lexer": "ipython3",
   "version": "3.11.5"
  }
 },
 "nbformat": 4,
 "nbformat_minor": 5
}
